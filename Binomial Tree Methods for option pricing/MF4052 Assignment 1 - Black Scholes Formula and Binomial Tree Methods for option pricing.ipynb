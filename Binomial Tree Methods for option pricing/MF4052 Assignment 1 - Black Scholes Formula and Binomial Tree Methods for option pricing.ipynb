{
 "cells": [
  {
   "cell_type": "markdown",
   "metadata": {},
   "source": [
    "# MF4052 Assignmant 1\n",
    "\n",
    "#### Student Name: Andrew McCann\n"
   ]
  },
  {
   "cell_type": "code",
   "execution_count": 1,
   "metadata": {},
   "outputs": [],
   "source": [
    "import math as m\n",
    "import numpy as np\n",
    "from ipywidgets import interact\n",
    "import matplotlib.pylab as plt\n",
    "%matplotlib inline"
   ]
  },
  {
   "cell_type": "markdown",
   "metadata": {},
   "source": [
    "#### Note:\n",
    "\n",
    "I have included a dividend yield in all my functions, represented by q. For Q1 and Q2 I have q set to 0. For the further investigation in Q3 I have q set to 0 as well. For the investigation of dividend yield in Q3, the value of q is varied. "
   ]
  },
  {
   "cell_type": "markdown",
   "metadata": {},
   "source": [
    "# Black Scholes Formula "
   ]
  },
  {
   "cell_type": "code",
   "execution_count": 2,
   "metadata": {},
   "outputs": [],
   "source": [
    "def phi(x):\n",
    "    \n",
    "    return((1+m.erf(x/m.sqrt(2)))/2)"
   ]
  },
  {
   "cell_type": "code",
   "execution_count": 3,
   "metadata": {},
   "outputs": [],
   "source": [
    "def PutBlackScholes(S0,E,r,sigma,T,t,q):\n",
    "    \n",
    "    d1 = (m.log(S0/E)+((r-q)+(sigma**2)/2)*(T-t))/(sigma*m.sqrt(T-t))\n",
    "    d2 = (m.log(S0/E)+((r-q)-(sigma**2)/2)*(T-t))/(sigma*m.sqrt(T-t))\n",
    "    \n",
    "    putPrice = (E*m.exp(-r*(T-t))*phi(-d2)) - (S0*m.exp(-q*(T-t))*phi(-d1))\n",
    "    \n",
    "    return putPrice"
   ]
  },
  {
   "cell_type": "code",
   "execution_count": 4,
   "metadata": {},
   "outputs": [
    {
     "data": {
      "text/plain": [
       "0.31503642251909003"
      ]
     },
     "execution_count": 4,
     "metadata": {},
     "output_type": "execute_result"
    }
   ],
   "source": [
    "PutBlackScholes(55,52,0.06,0.1,1,0,0)"
   ]
  },
  {
   "cell_type": "markdown",
   "metadata": {},
   "source": [
    "# Binomial Tree"
   ]
  },
  {
   "cell_type": "code",
   "execution_count": 5,
   "metadata": {},
   "outputs": [],
   "source": [
    "def EuroPutBinTree(S0,E,r,sigma,M,T,q):\n",
    "    \n",
    "    dt = T/M\n",
    "    p = 1/2\n",
    "    u = m.exp(sigma*m.sqrt(dt) + (r-q-(sigma**2)/2)*dt)\n",
    "    d = m.exp(-sigma*m.sqrt(dt) + (r-q-(sigma**2)/2)*dt)\n",
    "    \n",
    "    \n",
    "    assetValues=(S0*d**np.arange(M,-1,-1))*(u**np.arange(0,M+1,1))\n",
    "    optionValue=np.maximum(E-assetValues,0)\n",
    "    \n",
    "    for i in range(0,M):\n",
    "        optionValue = m.exp(-r*dt)*(p*optionValue[range(1,len(optionValue))] + (1-p)*optionValue[range(0,len(optionValue)-1)])\n",
    "        \n",
    "    return(optionValue[0])"
   ]
  },
  {
   "cell_type": "markdown",
   "metadata": {},
   "source": [
    "## Question 1"
   ]
  },
  {
   "cell_type": "code",
   "execution_count": 6,
   "metadata": {
    "scrolled": false
   },
   "outputs": [
    {
     "data": {
      "application/vnd.jupyter.widget-view+json": {
       "model_id": "2c8c4fa5d992434b99ba1fae50ee2518",
       "version_major": 2,
       "version_minor": 0
      },
      "text/plain": [
       "interactive(children=(IntSlider(value=19, description='S0', max=50), IntSlider(value=20, description='E', max=…"
      ]
     },
     "metadata": {},
     "output_type": "display_data"
    }
   ],
   "source": [
    "@interact(S0=(0,50, 1), E=(0, 50, 1), r=(0, 1, 0.01), sigma=(0.0, 0.5, 0.01), T=(0.25,3,0.25), q=(0,1,0.01))\n",
    "def interplot(S0=19,E=20,r=0.03,sigma=0.2,T=1,q=0):\n",
    "    \n",
    "    error = np.zeros(300)\n",
    "    \n",
    "    M = np.arange(100,400,1)\n",
    "    \n",
    "    a = PutBlackScholes(S0,E,r,sigma,T,0,q)\n",
    "    \n",
    "    i = 0\n",
    "    \n",
    "    for n in range(100,400):\n",
    "        b = EuroPutBinTree(S0,E,r,sigma,n,T,q)\n",
    "        error[i] = abs(a-b)\n",
    "        i = i+1\n",
    "    \n",
    "    plt.plot(M,error)\n",
    "    plt.xlim(100,400)\n",
    "    plt.xlabel(\"M\")\n",
    "    plt.ylabel(\"Error\")\n",
    "    plt.title(\"Error Plot\")\n",
    "    plt.show()"
   ]
  },
  {
   "cell_type": "markdown",
   "metadata": {},
   "source": [
    "## Question 2"
   ]
  },
  {
   "cell_type": "code",
   "execution_count": 7,
   "metadata": {},
   "outputs": [],
   "source": [
    "def EuroPutBinTree2(S0,E,r,sigma,M,T,q):\n",
    "    \n",
    "    dt = T/M\n",
    "    A = (m.exp(((r-q)+(sigma**2))*dt) + m.exp(-(r-q)*dt))/2\n",
    "    u = A + m.sqrt((A**2)-1)\n",
    "    d = A - m.sqrt((A**2)-1)\n",
    "    p = (m.exp((r-q)*dt) - d) / (u-d)\n",
    "    \n",
    "    assetValues=(S0*d**np.arange(M,-1,-1))*(u**np.arange(0,M+1,1))\n",
    "    optionValue=np.maximum(E-assetValues,0)\n",
    "    \n",
    "    for i in range(0,M):\n",
    "        optionValue = m.exp(-r*dt)*(p*optionValue[range(1,len(optionValue))] + (1-p)*optionValue[range(0,len(optionValue)-1)])\n",
    "        \n",
    "    return(optionValue[0])"
   ]
  },
  {
   "cell_type": "code",
   "execution_count": 8,
   "metadata": {
    "scrolled": false
   },
   "outputs": [
    {
     "data": {
      "application/vnd.jupyter.widget-view+json": {
       "model_id": "2b36bde50537408987e179ae4f09ee2b",
       "version_major": 2,
       "version_minor": 0
      },
      "text/plain": [
       "interactive(children=(IntSlider(value=19, description='S0', max=50), IntSlider(value=20, description='E', max=…"
      ]
     },
     "metadata": {},
     "output_type": "display_data"
    }
   ],
   "source": [
    "@interact(S0=(0,50, 1), E=(0, 50, 1), r=(0, 1, 0.01), sigma=(0.0, 0.5, 0.01), T=(0.25,3,0.25), q=(0,1,0.01))\n",
    "def interplot(S0=19,E=20,r=0.03,sigma=0.2,T=1,q=0):\n",
    "    \n",
    "    error2 = np.zeros(300)\n",
    "    \n",
    "    M = np.arange(100,400,1)\n",
    "    \n",
    "    a2 = PutBlackScholes(S0,E,r,sigma,T,0,q)\n",
    "    \n",
    "    i2 = 0\n",
    "    \n",
    "    for n in range(100,400):\n",
    "        b2 = EuroPutBinTree2(S0,E,r,sigma,n,T,q)\n",
    "        error2[i2] = np.abs(a2-b2)\n",
    "        i2 = i2+1\n",
    "    \n",
    "    plt.plot(M,error2)\n",
    "    plt.xlim(100,400)\n",
    "    plt.xlabel(\"M\")\n",
    "    plt.ylabel(\"Error\")\n",
    "    plt.title(\"Error Plot\")\n",
    "    plt.show()"
   ]
  },
  {
   "cell_type": "markdown",
   "metadata": {},
   "source": [
    "### Comment \n",
    "\n",
    "Q2 function has a smaller error size to begin with.\n",
    "\n",
    "Both functions converge to 0 as M goes to infinity."
   ]
  },
  {
   "cell_type": "markdown",
   "metadata": {},
   "source": [
    "# Question 3"
   ]
  },
  {
   "cell_type": "code",
   "execution_count": 9,
   "metadata": {
    "scrolled": false
   },
   "outputs": [
    {
     "data": {
      "application/vnd.jupyter.widget-view+json": {
       "model_id": "98f18bf2f9984c7f8ff27f1dec77b14c",
       "version_major": 2,
       "version_minor": 0
      },
      "text/plain": [
       "interactive(children=(IntSlider(value=19, description='S0', max=50), IntSlider(value=20, description='E', max=…"
      ]
     },
     "metadata": {},
     "output_type": "display_data"
    }
   ],
   "source": [
    "@interact(S0=(0,50, 1), E=(0, 50, 1), r=(0, 1, 0.01), sigma=(0.0, 0.5, 0.01), T=(0.25,3,0.25), q=(0,1,0.01))\n",
    "def interplot(S0=19,E=20,r=0.03,sigma=0.2,T=1,q=0):\n",
    "    \n",
    "    error1 = np.zeros(300)\n",
    "    error2 = np.zeros(300)\n",
    "    \n",
    "    M = np.arange(100,400,1)\n",
    "    \n",
    "    a = PutBlackScholes(S0,E,r,sigma,T,0,q)\n",
    "    \n",
    "    i = 0\n",
    "    \n",
    "    for n in range(100,400):\n",
    "        b = EuroPutBinTree(S0,E,r,sigma,n,T,q)\n",
    "        error1[i] = abs(a-b)\n",
    "        b2 = EuroPutBinTree2(S0,E,r,sigma,n,T,q)\n",
    "        error2[i] = np.abs(a-b2)\n",
    "        i = i+1\n",
    "    \n",
    "    plt.plot(M,error1, label=\"Q1 graph\")\n",
    "    plt.plot(M,error2, 'r', label=\"Q2 graph\")\n",
    "    plt.xlim(100,400)\n",
    "    plt.xlabel(\"M\")\n",
    "    plt.ylabel(\"Error\")\n",
    "    plt.title(\"Error Plot\")\n",
    "    plt.legend()\n",
    "    plt.show()"
   ]
  },
  {
   "cell_type": "markdown",
   "metadata": {},
   "source": [
    "### Further Investigation \n",
    "\n",
    "The following were obtained by adjusting the sliders for the above graph (When adjusting the slider for a particular parameter, all other parameters were kept at their original values of S0=19, E=20, r=0.03, sigma=0.2, T=1, q=0).\n",
    "\n",
    "As |S0-E| increases, the error converges to 0 quicker for both functions.\n",
    "\n",
    "As r decreases:\n",
    "* the error for the Q1 function converges to 0 slower.\n",
    "* the error for the Q2 function converges to 0 quicker.\n",
    "\n",
    "As r increases:\n",
    "* the error for the Q1 function converges to 0 quicker. \n",
    "* the error for the Q2 function converges to 0 slower.\n",
    "\n",
    "As sigma decreases, the error converges to 0 quicker for both functions.\n",
    "As sigma increases, the error converges to 0 slower for both functions.\n",
    "\n",
    "As T decreases, the error converges to 0 quicker for both functions. \n",
    "As T increases, the error converges to 0 slower for both functions.\n",
    "\n",
    "### Introduction of a dividend yield (q)\n",
    "\n",
    "The following were obtained by adjusting the sliders for the above graph.\n",
    "\n",
    "The introduction of q does not change the effect that the other parameters have on convergence.\n",
    "\n",
    "As q increases, the error converges to 0 quicker for both functions."
   ]
  },
  {
   "cell_type": "markdown",
   "metadata": {},
   "source": [
    "### Evaluating American Put  \n",
    "\n",
    "#### Binomial Tree model\n",
    "\n",
    "It is possible to evaluate the price of an American Put option using the Binomial Tree method.\n",
    "\n",
    "(Code included below - I have only made one function but expressions for u,d,p can be selected by commenting out the undesired ones)\n",
    "\n",
    "#### Black-Scholes Formula \n",
    "\n",
    "The Black-Scholes formula cannot be used to price an American put option. Therefore we cannot compare this with the Binomial Tree model in order to compute the error. However, it is possible to compute an approximation of the Black-Scholes PDE in order to price an American put option. The following discusses this.\n",
    "\n",
    "#### Finite Difference Method \n",
    "\n",
    "The finite difference method is a numerical approach that relies on Taylor's expansion. It uses linear difference approximations to the partial derivatives in the Black Scholes (BS) PDE. \n",
    "\n",
    "In the BS model, the option value is determined by stock price and time. \n",
    "\n",
    "The Black Scholes PDE is:\n",
    "\\begin{equation}\n",
    "\\frac{\\partial f}{\\partial t} + a\\frac{\\partial^{2}f}{\\partial S^{2}} + b\\frac{\\partial f}{\\partial S} + cf = 0,\n",
    "\\end{equation}\n",
    "\n",
    "where\n",
    "\n",
    "\\begin{equation}\n",
    "a=\\frac{1}{2} \\sigma^{2} S^{2}; \\space b=rS; \\space c=-r.\n",
    "\\end{equation}\n",
    "\n",
    "A two dimensional mesh is constucted with stock price and time on the axes. By using this mesh, discretisation is applied to the space of continuous stock price and time. Each point on the mesh represents one option value. Given that S in theory can take values until infinity, the mesh is truncated at S=Smax. \n",
    "\n",
    "The time step is dt=T/M and the asset step is dS = Smax/N. Therefore the total number of grid points is (M+1)X(N+1).\n",
    "\n",
    "Each point in the mesh represents one option value $f(t,S)$, where $t=i\\delta t, \\space S=j\\delta S$. I will denote this $f_{i,j} \\space where \\space i=0,1,2,...,M \\space and \\space j=0,1,2,...,N $.\n",
    "\n",
    "Notation:\n",
    "\n",
    "$ f_{i+1,j}=f(t+\\delta t, S); \\space f_{i+1,j-1}=f(t+\\delta t, S-\\delta S); \\space f_{i+1,j+1}=f(t+ \\delta t, S+\\delta S) $\n",
    "\n",
    "First, expand $f_{i,j}$ with respect to time t, \n",
    "\n",
    "\\begin{equation}\n",
    "f_{i+1,j} = f_{i,j} + \\frac{\\partial f}{\\partial t} \\delta t + O((\\delta t)^{2})\n",
    "\\end{equation}\n",
    "\n",
    "Rearranging gives,\n",
    "\n",
    "\\begin{equation}\n",
    "\\frac{\\partial f}{\\partial t} |_{i+1,j} = \\frac{f_{i+1,j} - f_{i,j}}{\\delta t} + O(\\delta t)\n",
    "\\end{equation}\n",
    "\n",
    "Expanding $f_{i,j}$ with respect to S,\n",
    "\n",
    "\\begin{equation}\n",
    "f_{i+1,j+1} = f_{i+1,j} + \\frac{\\partial f}{\\partial S} \\delta S + \\frac{1}{2} \\frac{\\partial^{2} f}{\\partial S^{2}} (\\delta S)^{2} + O((\\delta S)^{3})\n",
    "\\end{equation}\n",
    "\n",
    "\n",
    "\\begin{equation}\n",
    "f_{i+1,j-1} = f_{i+1,j} - \\frac{\\partial f}{\\partial S} \\delta S + \\frac{1}{2} \\frac{\\partial^{2} f}{\\partial S^{2}} (\\delta S)^{2} - \\frac{1}{6}\\frac{\\partial^2 f}{\\partial S^{2}}(\\delta S)^{2} + O((\\delta S)^{4})\n",
    "\\end{equation}\n",
    "\n",
    "Rearranging these two equations gives,\n",
    "\n",
    "\\begin{equation}\n",
    "\\frac{\\partial f}{\\partial S} |_{i+1,j} = \\frac{f_{i+1,j+1} - f_{i+1,j-1}}{2 \\delta S} + O((\\delta S)^{2})\n",
    "\\end{equation}\n",
    "\n",
    "\\begin{equation}\n",
    "\\frac{\\partial^{2} f}{\\partial S^{2}} |_{i+1,j} = \\frac{f_{i+1,j+1} - 2f_{i+1,j} + f_{i+1,j-1}}{(\\delta S)^{2}} + O((\\delta S)^{2})\n",
    "\\end{equation}\n",
    "\n",
    "Substituting these back in to the Black Scholes PDE gives the explicit forward difference scheme for $f_{i,j}$\n",
    "\n",
    "\\begin{equation}\n",
    "f_{i,j} = f_{i+1,j-1}(a_{i+1,j}\\frac{\\delta t}{(\\delta S)^{2}} - b_{i+1,j}\\frac{\\delta t}{2 \\delta S}) + f_{i+1,j}(1-2a_{i+1,j}\\frac{\\delta t}{(\\delta S)^{2}} + c_{i+1,j}\\delta t) + f_{i+1,j+1}(a_{i+1,j}\\frac{\\delta t}{(\\delta S)^{2}} + b_{i+1,j}\\frac{\\delta t}{2 \\delta S}) + O(\\delta t, (\\delta S)^{2})\n",
    "\\end{equation}\n",
    "\n",
    "Three applications of the finite difference method I found were the explicit scheme, implicit scheme and Crank-Nicolson scheme. The above is an explanation of the explicit scheme using backward difference approximation for t and central difference approximation for S.  \n",
    "\n",
    "#### Error \n",
    "\n",
    "For American put options, we could calculate the error for the Binomial Tree and Finite Difference Approximation in place of the Black Scholes PDE. However, given that the Finite Difference Approximation is only an estimate, the true error value will not be obtained. "
   ]
  },
  {
   "cell_type": "markdown",
   "metadata": {},
   "source": [
    "###### Code for American Put Binomial Tree"
   ]
  },
  {
   "cell_type": "code",
   "execution_count": 10,
   "metadata": {},
   "outputs": [],
   "source": [
    "def AmPutBinTree(s0,E,r,sigma,M,T):\n",
    "\n",
    "    dt = T/M\n",
    "    #u = m.exp(sigma*m.sqrt(dt) + (r-(sigma**2)/2)*dt)\n",
    "    #d = m.exp(-sigma*m.sqrt(dt) + (r-(sigma**2)/2)*dt)\n",
    "    #p = 1/2\n",
    "    A = (1/2) * (m.exp((r+(sigma**2))*dt)+ m.exp(-r*dt))\n",
    "    u = A + m.sqrt((A**2)-1)\n",
    "    d = A - m.sqrt((A**2)-1)\n",
    "    p = (m.exp(r*dt) - d) / (u-d)\n",
    "    \n",
    "\n",
    "    upowers = u**np.arange(0,M+1)\n",
    "    dpowers = d**np.arange(M,-1,-1)\n",
    "    \n",
    "    assetvalue = s0*upowers*dpowers\n",
    "    optionvalue = np.maximum(E-assetvalue,0)\n",
    "    \n",
    "    for i in range(M,0,-1):\n",
    "        \n",
    "        prevassetvalue = s0*upowers[range(0,i)]*dpowers[range(M-i+1,M+1)]\n",
    "        prevoptionvalue = np.maximum(E-prevassetvalue,0)\n",
    "\n",
    "        discount = np.exp(-r*dt)*(p*optionvalue[range(1,len(optionvalue))] + (1-p)*optionvalue[range(0,len(optionvalue)-1)])\n",
    "\n",
    "        optionvalue = np.maximum(discount, prevoptionvalue)\n",
    "\n",
    "    return(optionvalue[0])"
   ]
  }
 ],
 "metadata": {
  "kernelspec": {
   "display_name": "Python 3",
   "language": "python",
   "name": "python3"
  },
  "language_info": {
   "codemirror_mode": {
    "name": "ipython",
    "version": 3
   },
   "file_extension": ".py",
   "mimetype": "text/x-python",
   "name": "python",
   "nbconvert_exporter": "python",
   "pygments_lexer": "ipython3",
   "version": "3.7.1"
  }
 },
 "nbformat": 4,
 "nbformat_minor": 2
}
